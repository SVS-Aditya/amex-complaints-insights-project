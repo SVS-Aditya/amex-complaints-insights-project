{
 "cells": [
  {
   "cell_type": "code",
   "execution_count": 1,
   "metadata": {},
   "outputs": [
    {
     "name": "stdout",
     "output_type": "stream",
     "text": [
      "Dataset Loaded!\n",
      "Shape: (14456, 18)\n"
     ]
    },
    {
     "data": {
      "text/html": [
       "<div>\n",
       "<style scoped>\n",
       "    .dataframe tbody tr th:only-of-type {\n",
       "        vertical-align: middle;\n",
       "    }\n",
       "\n",
       "    .dataframe tbody tr th {\n",
       "        vertical-align: top;\n",
       "    }\n",
       "\n",
       "    .dataframe thead th {\n",
       "        text-align: right;\n",
       "    }\n",
       "</style>\n",
       "<table border=\"1\" class=\"dataframe\">\n",
       "  <thead>\n",
       "    <tr style=\"text-align: right;\">\n",
       "      <th></th>\n",
       "      <th>Date received</th>\n",
       "      <th>Product</th>\n",
       "      <th>Sub-product</th>\n",
       "      <th>Issue</th>\n",
       "      <th>Sub-issue</th>\n",
       "      <th>Consumer complaint narrative</th>\n",
       "      <th>Company public response</th>\n",
       "      <th>Company</th>\n",
       "      <th>State</th>\n",
       "      <th>ZIP code</th>\n",
       "      <th>Tags</th>\n",
       "      <th>Consumer consent provided?</th>\n",
       "      <th>Submitted via</th>\n",
       "      <th>Date sent to company</th>\n",
       "      <th>Company response to consumer</th>\n",
       "      <th>Timely response?</th>\n",
       "      <th>Consumer disputed?</th>\n",
       "      <th>Complaint ID</th>\n",
       "    </tr>\n",
       "  </thead>\n",
       "  <tbody>\n",
       "    <tr>\n",
       "      <th>0</th>\n",
       "      <td>2025-07-19</td>\n",
       "      <td>credit card</td>\n",
       "      <td>General-purpose credit card or charge card</td>\n",
       "      <td>Trouble using your card</td>\n",
       "      <td>Can't use card to make purchases</td>\n",
       "      <td>NaN</td>\n",
       "      <td>NaN</td>\n",
       "      <td>american express company</td>\n",
       "      <td>NJ</td>\n",
       "      <td>07748</td>\n",
       "      <td>NaN</td>\n",
       "      <td>NaN</td>\n",
       "      <td>Web</td>\n",
       "      <td>2025-07-19</td>\n",
       "      <td>In progress</td>\n",
       "      <td>Yes</td>\n",
       "      <td>NaN</td>\n",
       "      <td>14759032</td>\n",
       "    </tr>\n",
       "    <tr>\n",
       "      <th>1</th>\n",
       "      <td>2023-09-15</td>\n",
       "      <td>credit card</td>\n",
       "      <td>General-purpose credit card or charge card</td>\n",
       "      <td>Other features, terms, or problems</td>\n",
       "      <td>Problem with rewards from credit card</td>\n",
       "      <td>I am writing to file a formal complaint with t...</td>\n",
       "      <td>NaN</td>\n",
       "      <td>american express company</td>\n",
       "      <td>GA</td>\n",
       "      <td>30319</td>\n",
       "      <td>NaN</td>\n",
       "      <td>Consent provided</td>\n",
       "      <td>Web</td>\n",
       "      <td>2023-09-15</td>\n",
       "      <td>Closed with explanation</td>\n",
       "      <td>Yes</td>\n",
       "      <td>NaN</td>\n",
       "      <td>7555986</td>\n",
       "    </tr>\n",
       "    <tr>\n",
       "      <th>2</th>\n",
       "      <td>2025-05-20</td>\n",
       "      <td>credit card</td>\n",
       "      <td>General-purpose credit card or charge card</td>\n",
       "      <td>Closing your account</td>\n",
       "      <td>Company closed your account</td>\n",
       "      <td>American Express Closed my business credit ( c...</td>\n",
       "      <td>NaN</td>\n",
       "      <td>american express company</td>\n",
       "      <td>MA</td>\n",
       "      <td>02478</td>\n",
       "      <td>NaN</td>\n",
       "      <td>Consent provided</td>\n",
       "      <td>Web</td>\n",
       "      <td>2025-05-20</td>\n",
       "      <td>Closed with explanation</td>\n",
       "      <td>Yes</td>\n",
       "      <td>NaN</td>\n",
       "      <td>13615367</td>\n",
       "    </tr>\n",
       "    <tr>\n",
       "      <th>3</th>\n",
       "      <td>2024-04-17</td>\n",
       "      <td>credit card</td>\n",
       "      <td>General-purpose credit card or charge card</td>\n",
       "      <td>Getting a credit card</td>\n",
       "      <td>Application denied</td>\n",
       "      <td>On XXXX XXXX, I applied for an American Expres...</td>\n",
       "      <td>NaN</td>\n",
       "      <td>american express company</td>\n",
       "      <td>FL</td>\n",
       "      <td>33026</td>\n",
       "      <td>NaN</td>\n",
       "      <td>Consent provided</td>\n",
       "      <td>Web</td>\n",
       "      <td>2024-04-17</td>\n",
       "      <td>Closed with explanation</td>\n",
       "      <td>Yes</td>\n",
       "      <td>NaN</td>\n",
       "      <td>8798047</td>\n",
       "    </tr>\n",
       "    <tr>\n",
       "      <th>4</th>\n",
       "      <td>2024-03-25</td>\n",
       "      <td>credit card</td>\n",
       "      <td>General-purpose credit card or charge card</td>\n",
       "      <td>Problem with a company's investigation into an...</td>\n",
       "      <td>Their investigation did not fix an error on yo...</td>\n",
       "      <td>I am a victim of identity theft I have two cas...</td>\n",
       "      <td>NaN</td>\n",
       "      <td>american express company</td>\n",
       "      <td>GA</td>\n",
       "      <td>30032</td>\n",
       "      <td>NaN</td>\n",
       "      <td>Consent provided</td>\n",
       "      <td>Web</td>\n",
       "      <td>2024-03-27</td>\n",
       "      <td>Closed with non-monetary relief</td>\n",
       "      <td>Yes</td>\n",
       "      <td>NaN</td>\n",
       "      <td>8624856</td>\n",
       "    </tr>\n",
       "  </tbody>\n",
       "</table>\n",
       "</div>"
      ],
      "text/plain": [
       "  Date received      Product                                 Sub-product  \\\n",
       "0    2025-07-19  credit card  General-purpose credit card or charge card   \n",
       "1    2023-09-15  credit card  General-purpose credit card or charge card   \n",
       "2    2025-05-20  credit card  General-purpose credit card or charge card   \n",
       "3    2024-04-17  credit card  General-purpose credit card or charge card   \n",
       "4    2024-03-25  credit card  General-purpose credit card or charge card   \n",
       "\n",
       "                                               Issue  \\\n",
       "0                            Trouble using your card   \n",
       "1                 Other features, terms, or problems   \n",
       "2                               Closing your account   \n",
       "3                              Getting a credit card   \n",
       "4  Problem with a company's investigation into an...   \n",
       "\n",
       "                                           Sub-issue  \\\n",
       "0                   Can't use card to make purchases   \n",
       "1              Problem with rewards from credit card   \n",
       "2                        Company closed your account   \n",
       "3                                 Application denied   \n",
       "4  Their investigation did not fix an error on yo...   \n",
       "\n",
       "                        Consumer complaint narrative  Company public response  \\\n",
       "0                                                NaN                      NaN   \n",
       "1  I am writing to file a formal complaint with t...                      NaN   \n",
       "2  American Express Closed my business credit ( c...                      NaN   \n",
       "3  On XXXX XXXX, I applied for an American Expres...                      NaN   \n",
       "4  I am a victim of identity theft I have two cas...                      NaN   \n",
       "\n",
       "                    Company State ZIP code Tags Consumer consent provided?  \\\n",
       "0  american express company    NJ    07748  NaN                        NaN   \n",
       "1  american express company    GA    30319  NaN           Consent provided   \n",
       "2  american express company    MA    02478  NaN           Consent provided   \n",
       "3  american express company    FL    33026  NaN           Consent provided   \n",
       "4  american express company    GA    30032  NaN           Consent provided   \n",
       "\n",
       "  Submitted via Date sent to company     Company response to consumer  \\\n",
       "0           Web           2025-07-19                      In progress   \n",
       "1           Web           2023-09-15          Closed with explanation   \n",
       "2           Web           2025-05-20          Closed with explanation   \n",
       "3           Web           2024-04-17          Closed with explanation   \n",
       "4           Web           2024-03-27  Closed with non-monetary relief   \n",
       "\n",
       "  Timely response? Consumer disputed?  Complaint ID  \n",
       "0              Yes                NaN      14759032  \n",
       "1              Yes                NaN       7555986  \n",
       "2              Yes                NaN      13615367  \n",
       "3              Yes                NaN       8798047  \n",
       "4              Yes                NaN       8624856  "
      ]
     },
     "execution_count": 1,
     "metadata": {},
     "output_type": "execute_result"
    }
   ],
   "source": [
    "import pandas as pd\n",
    "import numpy as np\n",
    "import matplotlib.pyplot as plt\n",
    "import seaborn as sns\n",
    "\n",
    "# Set display and plot styles\n",
    "pd.set_option('display.max_columns', 100)\n",
    "sns.set(style='whitegrid')\n",
    "%matplotlib inline\n",
    "\n",
    "# Load the filtered dataset\n",
    "df = pd.read_csv(\"../data/amex_credit_card_complaints.csv\")\n",
    "\n",
    "print(\"Dataset Loaded!\")\n",
    "print(\"Shape:\", df.shape)\n",
    "df.head()\n"
   ]
  },
  {
   "cell_type": "code",
   "execution_count": 2,
   "metadata": {},
   "outputs": [
    {
     "name": "stdout",
     "output_type": "stream",
     "text": [
      "Column names cleaned & date columns parsed.\n"
     ]
    }
   ],
   "source": [
    "# Lowercase and replace spaces with underscores\n",
    "df.columns = df.columns.str.lower().str.replace(\" \", \"_\")\n",
    "\n",
    "# Convert date columns\n",
    "df['date_received'] = pd.to_datetime(df['date_received'])\n",
    "df['date_sent_to_company'] = pd.to_datetime(df['date_sent_to_company'])\n",
    "\n",
    "print(\"Column names cleaned & date columns parsed.\")\n"
   ]
  },
  {
   "cell_type": "code",
   "execution_count": 3,
   "metadata": {},
   "outputs": [
    {
     "name": "stdout",
     "output_type": "stream",
     "text": [
      "Columns with missing values:\n",
      " company_public_response         1.000000\n",
      "tags                            0.853210\n",
      "consumer_complaint_narrative    0.623547\n",
      "consumer_disputed?              0.538669\n",
      "sub-issue                       0.461608\n",
      "sub-product                     0.461331\n",
      "consumer_consent_provided?      0.356253\n",
      "state                           0.008301\n",
      "zip_code                        0.001937\n",
      "dtype: float64\n",
      "Missing values handled.\n"
     ]
    }
   ],
   "source": [
    "# Check % missing\n",
    "missing = df.isnull().mean().sort_values(ascending=False)\n",
    "missing = missing[missing > 0]\n",
    "print(\"Columns with missing values:\\n\", missing)\n",
    "\n",
    "# Drop rows with no narrative (required for NLP later)\n",
    "df = df.dropna(subset=['consumer_complaint_narrative'])\n",
    "\n",
    "# Fill remaining missing with default values\n",
    "df['consumer_disputed?'] = df['consumer_disputed?'].fillna(\"Unknown\")\n",
    "df['timely_response?'] = df['timely_response?'].fillna(\"Unknown\")\n",
    "df['tags'] = df['tags'].fillna(\"Not Provided\")\n",
    "df['consumer_consent_provided?'] = df['consumer_consent_provided?'].fillna(\"Not Provided\")\n",
    "df['company_public_response'] = df['company_public_response'].fillna(\"No response\")\n",
    "\n",
    "print(\"Missing values handled.\")\n"
   ]
  },
  {
   "cell_type": "code",
   "execution_count": 4,
   "metadata": {},
   "outputs": [
    {
     "name": "stdout",
     "output_type": "stream",
     "text": [
      "Removed duplicates and too-short complaints.\n"
     ]
    }
   ],
   "source": [
    "# Drop duplicates (same narrative + issue)\n",
    "df = df.drop_duplicates(subset=['consumer_complaint_narrative', 'issue'])\n",
    "\n",
    "# Remove complaints that are too short\n",
    "df = df[df['consumer_complaint_narrative'].str.len() > 30]\n",
    "\n",
    "# Optional: reset index\n",
    "df = df.reset_index(drop=True)\n",
    "\n",
    "print(\"Removed duplicates and too-short complaints.\")\n"
   ]
  },
  {
   "cell_type": "code",
   "execution_count": 5,
   "metadata": {},
   "outputs": [
    {
     "name": "stdout",
     "output_type": "stream",
     "text": [
      "Number of rows: 5409\n",
      "Unique issues: 44\n",
      "Unique submission channels: ['Web']\n",
      "Date range: 2015-03-19 00:00:00 to 2025-06-05 00:00:00\n"
     ]
    }
   ],
   "source": [
    "print(\"Number of rows:\", df.shape[0])\n",
    "print(\"Unique issues:\", df['issue'].nunique())\n",
    "print(\"Unique submission channels:\", df['submitted_via'].unique())\n",
    "print(\"Date range:\", df['date_received'].min(), \"to\", df['date_received'].max())\n"
   ]
  },
  {
   "cell_type": "code",
   "execution_count": 6,
   "metadata": {},
   "outputs": [
    {
     "name": "stdout",
     "output_type": "stream",
     "text": [
      "Cleaned dataset saved to: ../data/amex_cleaned_complaints.csv\n"
     ]
    }
   ],
   "source": [
    "# Save cleaned data\n",
    "df.to_csv(\"../data/amex_cleaned_complaints.csv\", index=False)\n",
    "print(\"Cleaned dataset saved to: ../data/amex_cleaned_complaints.csv\")\n"
   ]
  }
 ],
 "metadata": {
  "kernelspec": {
   "display_name": "Python 3",
   "language": "python",
   "name": "python3"
  },
  "language_info": {
   "codemirror_mode": {
    "name": "ipython",
    "version": 3
   },
   "file_extension": ".py",
   "mimetype": "text/x-python",
   "name": "python",
   "nbconvert_exporter": "python",
   "pygments_lexer": "ipython3",
   "version": "3.13.3"
  }
 },
 "nbformat": 4,
 "nbformat_minor": 2
}
