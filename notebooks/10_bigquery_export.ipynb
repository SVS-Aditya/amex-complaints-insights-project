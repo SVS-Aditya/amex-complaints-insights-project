{
 "cells": [
  {
   "cell_type": "code",
   "execution_count": 4,
   "metadata": {},
   "outputs": [
    {
     "name": "stderr",
     "output_type": "stream",
     "text": [
      "c:\\Users\\ASUS\\AppData\\Local\\Programs\\Python\\Python313\\Lib\\site-packages\\google\\cloud\\bigquery\\_pandas_helpers.py:484: FutureWarning: Loading pandas DataFrame into BigQuery will require pandas-gbq package version 0.26.1 or greater in the future. Tried to import pandas-gbq and got: No module named 'pandas_gbq'\n",
      "  warnings.warn(\n"
     ]
    },
    {
     "data": {
      "text/plain": [
       "LoadJob<project=amex-analytics-project, location=US, id=5953fa47-1130-4d0d-b17f-7dca92fae444>"
      ]
     },
     "execution_count": 4,
     "metadata": {},
     "output_type": "execute_result"
    }
   ],
   "source": [
    "from google.cloud import bigquery\n",
    "import pandas as pd\n",
    "\n",
    "churn_df = pd.read_csv(\"../outputs/churn_predictions.csv\")\n",
    "churn_df['prediction_date'] = pd.Timestamp.today().normalize()\n",
    "\n",
    "client = bigquery.Client(project=\"amex-analytics-project\")\n",
    "client.load_table_from_dataframe(\n",
    "    churn_df,\n",
    "    \"amex-analytics-project.amex_data.churn_predictions\"\n",
    ").result()\n"
   ]
  },
  {
   "cell_type": "code",
   "execution_count": 6,
   "metadata": {},
   "outputs": [
    {
     "name": "stdout",
     "output_type": "stream",
     "text": [
      "KPI export table created in BigQuery: amex_data.full_kpi_export\n"
     ]
    }
   ],
   "source": [
    "from google.cloud import bigquery\n",
    "\n",
    "client = bigquery.Client(project=\"amex-analytics-project\")\n",
    "\n",
    "query = \"\"\"\n",
    "CREATE OR REPLACE TABLE `amex-analytics-project.amex_data.full_kpi_export` AS\n",
    "WITH\n",
    "-- Complaint KPIs\n",
    "monthly_volume AS (\n",
    "  SELECT FORMAT_DATE('%Y-%m', DATE(date_received)) AS month, COUNT(*) AS total_complaints\n",
    "  FROM `amex-analytics-project.amex_data.amex_complaints`\n",
    "  GROUP BY month\n",
    "),\n",
    "top_issues AS (\n",
    "  SELECT issue, COUNT(*) AS complaint_count\n",
    "  FROM `amex-analytics-project.amex_data.amex_complaints`\n",
    "  GROUP BY issue\n",
    "  ORDER BY complaint_count DESC\n",
    "  LIMIT 10\n",
    "),\n",
    "sentiment_dist AS (\n",
    "  SELECT sentiment_label, COUNT(*) AS sentiment_count\n",
    "  FROM `amex-analytics-project.amex_data.amex_complaints`\n",
    "  GROUP BY sentiment_label\n",
    "),\n",
    "channel_counts AS (\n",
    "  SELECT submitted_via, COUNT(*) AS channel_count\n",
    "  FROM `amex-analytics-project.amex_data.amex_complaints`\n",
    "  GROUP BY submitted_via\n",
    "),\n",
    "response_dispute AS (\n",
    "  SELECT timely_response, consumer_disputed, COUNT(*) AS count\n",
    "  FROM `amex-analytics-project.amex_data.amex_complaints`\n",
    "  GROUP BY timely_response, consumer_disputed\n",
    "),\n",
    "\n",
    "-- Churn KPIs\n",
    "churn_summary AS (\n",
    "  SELECT\n",
    "    COUNT(*) AS total_customers,\n",
    "    SUM(CASE WHEN actual = 1 THEN 1 ELSE 0 END) AS churned_customers,\n",
    "    ROUND(SUM(CASE WHEN actual = 1 THEN 1 ELSE 0 END) / COUNT(*), 3) AS churn_rate\n",
    "  FROM `amex-analytics-project.amex_data.churn_predictions`\n",
    "),\n",
    "churn_model_perf AS (\n",
    "  SELECT\n",
    "    ROUND(SUM(CASE WHEN actual = predicted THEN 1 ELSE 0 END) / COUNT(*), 3) AS accuracy,\n",
    "    ROUND(SUM(CASE WHEN predicted = 1 AND actual = 1 THEN 1 ELSE 0 END) / \n",
    "          SUM(CASE WHEN predicted = 1 THEN 1 ELSE 0 END), 3) AS precision,\n",
    "    ROUND(SUM(CASE WHEN predicted = 1 AND actual = 1 THEN 1 ELSE 0 END) / \n",
    "          SUM(CASE WHEN actual = 1 THEN 1 ELSE 0 END), 3) AS recall\n",
    "  FROM `amex-analytics-project.amex_data.churn_predictions`\n",
    "),\n",
    "\n",
    "-- Escalation KPIs\n",
    "escalation_summary AS (\n",
    "  SELECT\n",
    "    COUNT(*) AS total_cases,\n",
    "    SUM(CASE WHEN escalated = True THEN 1 ELSE 0 END) AS escalated_cases,\n",
    "    ROUND(SUM(CASE WHEN escalated = True THEN 1 ELSE 0 END) / COUNT(*), 3) AS escalation_rate\n",
    "  FROM `amex-analytics-project.amex_data.escalation_predictions`\n",
    ")\n",
    "\n",
    "-- Final unified export\n",
    "SELECT 'monthly_volume' AS metric_type, month AS dim_1, NULL AS dim_2, total_complaints AS value\n",
    "FROM monthly_volume\n",
    "\n",
    "UNION ALL\n",
    "SELECT 'top_issues', issue, NULL, complaint_count\n",
    "FROM top_issues\n",
    "\n",
    "UNION ALL\n",
    "SELECT 'sentiment_distribution', sentiment_label, NULL, sentiment_count\n",
    "FROM sentiment_dist\n",
    "\n",
    "UNION ALL\n",
    "SELECT 'channel_counts', submitted_via, NULL, channel_count\n",
    "FROM channel_counts\n",
    "\n",
    "UNION ALL\n",
    "SELECT 'response_vs_dispute', CAST(timely_response AS STRING), CAST(consumer_disputed AS STRING), count\n",
    "FROM response_dispute\n",
    "\n",
    "UNION ALL\n",
    "SELECT 'churn_kpis', 'churn_rate', NULL, churn_rate\n",
    "FROM churn_summary\n",
    "\n",
    "UNION ALL\n",
    "SELECT 'churn_model_performance', 'accuracy', NULL, accuracy\n",
    "FROM churn_model_perf\n",
    "\n",
    "UNION ALL\n",
    "SELECT 'churn_model_performance', 'precision', NULL, precision\n",
    "FROM churn_model_perf\n",
    "\n",
    "UNION ALL\n",
    "SELECT 'churn_model_performance', 'recall', NULL, recall\n",
    "FROM churn_model_perf\n",
    "\n",
    "UNION ALL\n",
    "SELECT 'escalation_kpis', 'escalation_rate', NULL, escalation_rate\n",
    "FROM escalation_summary\n",
    "\"\"\"\n",
    "\n",
    "client.query(query).result()\n",
    "print(\"KPI export table created in BigQuery: amex_data.full_kpi_export\")\n"
   ]
  }
 ],
 "metadata": {
  "kernelspec": {
   "display_name": "Python 3",
   "language": "python",
   "name": "python3"
  },
  "language_info": {
   "codemirror_mode": {
    "name": "ipython",
    "version": 3
   },
   "file_extension": ".py",
   "mimetype": "text/x-python",
   "name": "python",
   "nbconvert_exporter": "python",
   "pygments_lexer": "ipython3",
   "version": "3.13.3"
  }
 },
 "nbformat": 4,
 "nbformat_minor": 2
}
