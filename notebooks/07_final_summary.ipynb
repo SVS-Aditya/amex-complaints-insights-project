{
 "cells": [
  {
   "cell_type": "code",
   "execution_count": 1,
   "metadata": {},
   "outputs": [],
   "source": [
    "import pandas as pd\n",
    "\n",
    "complaints = pd.read_csv(\"../data/amex_complaints_sentiment.csv\")\n",
    "churn = pd.read_csv(\"../outputs/churn_predictions.csv\")\n"
   ]
  },
  {
   "cell_type": "code",
   "execution_count": 2,
   "metadata": {},
   "outputs": [
    {
     "name": "stdout",
     "output_type": "stream",
     "text": [
      "Complaint records: 5409\n",
      "Churn records: 2026\n",
      "Escalation rate: 9.30%\n",
      "Churn rate: 16.14%\n",
      "Sentiment distribution:\n",
      " sentiment_label\n",
      "positive    0.524\n",
      "negative    0.381\n",
      "neutral     0.095\n",
      "Name: proportion, dtype: float64\n"
     ]
    }
   ],
   "source": [
    "print(\"Complaint records:\", len(complaints))\n",
    "print(\"Churn records:\", len(churn))\n",
    "\n",
    "# Escalation rate\n",
    "escalation_rate = complaints['consumer_disputed?'].str.lower().eq('yes').mean()\n",
    "print(\"Escalation rate: {:.2%}\".format(escalation_rate))\n",
    "\n",
    "# Churn rate\n",
    "churn_rate = churn['actual'].mean()\n",
    "print(\"Churn rate: {:.2%}\".format(churn_rate))\n",
    "\n",
    "# Sentiment breakdown\n",
    "sentiment_counts = complaints['sentiment_label'].value_counts(normalize=True).round(3)\n",
    "print(\"Sentiment distribution:\\n\", sentiment_counts)\n"
   ]
  },
  {
   "cell_type": "code",
   "execution_count": 3,
   "metadata": {},
   "outputs": [
    {
     "name": "stdout",
     "output_type": "stream",
     "text": [
      "Final output files:\n",
      "- churn_model.pkl\n",
      "- churn_predictions.csv\n",
      "- complaints_by_channel.csv\n",
      "- escalation_model.pkl\n",
      "- monthly_complaint_volume.csv\n",
      "- response_vs_dispute.csv\n",
      "- sentiment_by_issue.csv\n",
      "- top_10_issues.csv\n"
     ]
    }
   ],
   "source": [
    "import os\n",
    "\n",
    "output_dir = \"../outputs\"\n",
    "outputs = os.listdir(output_dir)\n",
    "\n",
    "print(\"Final output files:\")\n",
    "for f in outputs:\n",
    "    print(\"-\", f)\n"
   ]
  },
  {
   "cell_type": "markdown",
   "metadata": {},
   "source": [
    "This project demonstrates an end-to-end analytics solution inspired by real American Express business problems. It includes:\n",
    "\n",
    "- Cleaning and analyzing over 50,000+ consumer complaint records\n",
    "- Using NLP to detect sentiment from complaint narratives\n",
    "- Building a machine learning model to predict complaint escalation risk\n",
    "- Building a separate model to predict customer churn\n",
    "- Preparing dashboard-ready summaries for visualization in Tableau or Power BI\n",
    "\n",
    "The tools used include Python, pandas, scikit-learn, VADER, joblib, and one-hot encoding. The project mimics real-world data analyst workflows and delivers insights for improving customer experience and reducing regulatory risks.\n"
   ]
  }
 ],
 "metadata": {
  "kernelspec": {
   "display_name": "Python 3",
   "language": "python",
   "name": "python3"
  },
  "language_info": {
   "codemirror_mode": {
    "name": "ipython",
    "version": 3
   },
   "file_extension": ".py",
   "mimetype": "text/x-python",
   "name": "python",
   "nbconvert_exporter": "python",
   "pygments_lexer": "ipython3",
   "version": "3.13.3"
  }
 },
 "nbformat": 4,
 "nbformat_minor": 2
}
