{
 "cells": [
  {
   "cell_type": "code",
   "execution_count": 22,
   "metadata": {},
   "outputs": [
    {
     "name": "stdout",
     "output_type": "stream",
     "text": [
      "Complaints loaded: (5409, 20)\n"
     ]
    }
   ],
   "source": [
    "import pandas as pd\n",
    "\n",
    "complaints = pd.read_csv(\"../data/amex_complaints_sentiment.csv\")\n",
    "print(\"Complaints loaded:\", complaints.shape)\n"
   ]
  },
  {
   "cell_type": "code",
   "execution_count": 23,
   "metadata": {},
   "outputs": [
    {
     "name": "stdout",
     "output_type": "stream",
     "text": [
      "Exported: monthly_complaint_volume.csv\n"
     ]
    },
    {
     "name": "stderr",
     "output_type": "stream",
     "text": [
      "C:\\Users\\ASUS\\AppData\\Local\\Temp\\ipykernel_26032\\3635133572.py:2: FutureWarning: 'M' is deprecated and will be removed in a future version, please use 'ME' instead.\n",
      "  monthly_volume = complaints.resample('M', on='date_received').size().reset_index(name='complaint_count')\n"
     ]
    }
   ],
   "source": [
    "complaints['date_received'] = pd.to_datetime(complaints['date_received'])\n",
    "monthly_volume = complaints.resample('M', on='date_received').size().reset_index(name='complaint_count')\n",
    "\n",
    "monthly_volume.to_csv(\"../outputs/monthly_complaint_volume.csv\", index=False)\n",
    "print(\"Exported: monthly_complaint_volume.csv\")\n"
   ]
  },
  {
   "cell_type": "code",
   "execution_count": 24,
   "metadata": {},
   "outputs": [
    {
     "name": "stdout",
     "output_type": "stream",
     "text": [
      "Exported: sentiment_by_issue.csv\n"
     ]
    }
   ],
   "source": [
    "sentiment_issue = complaints.groupby(['issue', 'sentiment_label']).size().unstack(fill_value=0).reset_index()\n",
    "sentiment_issue.to_csv(\"../outputs/sentiment_by_issue.csv\", index=False)\n",
    "print(\"Exported: sentiment_by_issue.csv\")\n"
   ]
  },
  {
   "cell_type": "code",
   "execution_count": 25,
   "metadata": {},
   "outputs": [
    {
     "name": "stdout",
     "output_type": "stream",
     "text": [
      "Exported: response_vs_dispute.csv\n"
     ]
    }
   ],
   "source": [
    "response_dispute = complaints.groupby(['timely_response?', 'consumer_disputed?']).size().unstack(fill_value=0).reset_index()\n",
    "response_dispute.to_csv(\"../outputs/response_vs_dispute.csv\", index=False)\n",
    "print(\"Exported: response_vs_dispute.csv\")\n"
   ]
  },
  {
   "cell_type": "code",
   "execution_count": 26,
   "metadata": {},
   "outputs": [
    {
     "name": "stdout",
     "output_type": "stream",
     "text": [
      "Exported: top_10_issues.csv\n"
     ]
    }
   ],
   "source": [
    "top_issues = complaints['issue'].value_counts().head(10).reset_index()\n",
    "top_issues.columns = ['issue', 'count']\n",
    "top_issues.to_csv(\"../outputs/top_10_issues.csv\", index=False)\n",
    "print(\"Exported: top_10_issues.csv\")\n"
   ]
  },
  {
   "cell_type": "code",
   "execution_count": 27,
   "metadata": {},
   "outputs": [
    {
     "name": "stdout",
     "output_type": "stream",
     "text": [
      "Exported: complaints_by_channel.csv\n"
     ]
    }
   ],
   "source": [
    "channel_summary = complaints['submitted_via'].value_counts().reset_index()\n",
    "channel_summary.columns = ['channel', 'count']\n",
    "channel_summary.to_csv(\"../outputs/complaints_by_channel.csv\", index=False)\n",
    "print(\"Exported: complaints_by_channel.csv\")\n"
   ]
  },
  {
   "cell_type": "code",
   "execution_count": 28,
   "metadata": {},
   "outputs": [
    {
     "name": "stdout",
     "output_type": "stream",
     "text": [
      "Exported: churn_predictions.csv\n"
     ]
    }
   ],
   "source": [
    "df = pd.read_csv(\"../data/intermediate data/credit_card_churn.csv\")\n",
    "\n",
    "df['churn'] = df['Attrition_Flag'].apply(lambda x: 1 if x == 'Attrited Customer' else 0)\n",
    "\n",
    "df = df.drop(['CLIENTNUM', 'Attrition_Flag'], axis=1)\n",
    "\n",
    "cat_cols = df.select_dtypes(include='object').columns.tolist()\n",
    "df_encoded = pd.get_dummies(df, columns=cat_cols, drop_first=True)\n",
    "\n",
    "leak_cols = [col for col in df_encoded.columns if col.startswith(\"Naive_Bayes_Classifier\")]\n",
    "df_encoded = df_encoded.drop(columns=leak_cols)\n",
    "\n",
    "X = df_encoded.drop('churn', axis=1)\n",
    "y = df_encoded['churn']\n",
    "\n",
    "from sklearn.model_selection import train_test_split\n",
    "X_train, X_test, y_train, y_test = train_test_split(X, y, test_size=0.2, random_state=42)\n",
    "\n",
    "from joblib import load\n",
    "model = load(\"../outputs/churn_model.pkl\")\n",
    "\n",
    "y_pred = model.predict(X_test)\n",
    "\n",
    "churn_summary = pd.DataFrame({\n",
    "    'actual': y_test,\n",
    "    'predicted': y_pred\n",
    "})\n",
    "churn_summary.to_csv(\"../outputs/churn_predictions.csv\", index=False)\n",
    "print(\"Exported: churn_predictions.csv\")\n"
   ]
  }
 ],
 "metadata": {
  "kernelspec": {
   "display_name": "Python 3",
   "language": "python",
   "name": "python3"
  },
  "language_info": {
   "codemirror_mode": {
    "name": "ipython",
    "version": 3
   },
   "file_extension": ".py",
   "mimetype": "text/x-python",
   "name": "python",
   "nbconvert_exporter": "python",
   "pygments_lexer": "ipython3",
   "version": "3.13.3"
  }
 },
 "nbformat": 4,
 "nbformat_minor": 2
}
