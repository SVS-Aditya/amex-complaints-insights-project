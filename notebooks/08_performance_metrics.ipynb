{
 "cells": [
  {
   "cell_type": "code",
   "execution_count": 2,
   "metadata": {},
   "outputs": [
    {
     "name": "stdout",
     "output_type": "stream",
     "text": [
      "Collecting faker\n",
      "  Downloading faker-37.5.3-py3-none-any.whl.metadata (15 kB)\n",
      "Requirement already satisfied: tzdata in c:\\users\\asus\\appdata\\local\\programs\\python\\python313\\lib\\site-packages (from faker) (2025.2)\n",
      "Downloading faker-37.5.3-py3-none-any.whl (1.9 MB)\n",
      "   ---------------------------------------- 0.0/1.9 MB ? eta -:--:--\n",
      "   ---------------------------------------- 0.0/1.9 MB ? eta -:--:--\n",
      "   ----- ---------------------------------- 0.3/1.9 MB ? eta -:--:--\n",
      "   ----- ---------------------------------- 0.3/1.9 MB ? eta -:--:--\n",
      "   ---------- ----------------------------- 0.5/1.9 MB 822.6 kB/s eta 0:00:02\n",
      "   --------------------- ------------------ 1.0/1.9 MB 1.2 MB/s eta 0:00:01\n",
      "   -------------------------------- ------- 1.6/1.9 MB 1.5 MB/s eta 0:00:01\n",
      "   ---------------------------------------- 1.9/1.9 MB 1.7 MB/s eta 0:00:00\n",
      "Installing collected packages: faker\n",
      "Successfully installed faker-37.5.3\n"
     ]
    },
    {
     "name": "stderr",
     "output_type": "stream",
     "text": [
      "\n",
      "[notice] A new release of pip is available: 25.1.1 -> 25.2\n",
      "[notice] To update, run: python.exe -m pip install --upgrade pip\n"
     ]
    }
   ],
   "source": [
    "!pip install faker"
   ]
  },
  {
   "cell_type": "code",
   "execution_count": 3,
   "metadata": {},
   "outputs": [],
   "source": [
    "import pandas as pd\n",
    "import random\n",
    "from faker import Faker\n",
    "from datetime import timedelta\n",
    "import numpy as np\n",
    "\n",
    "fake = Faker()\n",
    "random.seed(42)\n",
    "np.random.seed(42)\n",
    "\n",
    "num_tickets = 5000\n",
    "categories = ['Billing', 'Fraud', 'Card Reissue', 'Travel Booking', 'Dispute']\n",
    "\n",
    "data = []\n",
    "\n",
    "for _ in range(num_tickets):\n",
    "    created_at = fake.date_between(start_date='-1y', end_date='-10d')\n",
    "    resolution_days = random.randint(1, 15)\n",
    "    resolved_at = created_at + timedelta(days=resolution_days)\n",
    "    \n",
    "    entry = {\n",
    "        'ticket_id': fake.uuid4(),\n",
    "        'customer_id': fake.uuid4(),\n",
    "        'agent_id': f\"AGENT{random.randint(100, 150)}\",\n",
    "        'created_at': created_at,\n",
    "        'resolved_at': resolved_at,\n",
    "        'resolution_days': resolution_days,\n",
    "        'category': random.choice(categories),\n",
    "        'satisfaction_score': random.randint(1, 10),\n",
    "    }\n",
    "    data.append(entry)\n",
    "\n",
    "df_perf = pd.DataFrame(data)\n"
   ]
  },
  {
   "cell_type": "code",
   "execution_count": 4,
   "metadata": {},
   "outputs": [
    {
     "name": "stdout",
     "output_type": "stream",
     "text": [
      "Sample rows:\n",
      "                              ticket_id                           customer_id  \\\n",
      "0  a96eb1bb-c325-4fce-996f-4fd4ccd65811  8af38ba8-2519-476a-a3db-61fb81b7b9c8   \n",
      "1  af831c37-a0d4-4e17-b17c-ee0c367ddc0c  2aa6e1b6-8a2d-467f-926f-a1dd625713ec   \n",
      "2  8f3bd3f0-e713-483d-9f12-f38d06030d94  9a69720e-a961-47a6-810b-2b71e4b38ecd   \n",
      "3  9e0aaada-20df-4ee9-936e-7da91549cbb9  07933791-0671-487c-bfb5-a8932e735c5f   \n",
      "4  4a1b5739-66cc-424a-8d92-719a2fce11c9  3292460f-00e9-4691-b38c-7c1e514e7b86   \n",
      "\n",
      "   agent_id  created_at resolved_at  resolution_days category  \\\n",
      "0  AGENT107  2025-04-27  2025-05-08               11  Billing   \n",
      "1  AGENT114  2024-08-10  2024-08-14                4    Fraud   \n",
      "2  AGENT147  2025-05-30  2025-06-10               11  Dispute   \n",
      "3  AGENT127  2024-11-13  2024-11-23               10  Billing   \n",
      "4  AGENT113  2024-10-31  2024-11-02                2    Fraud   \n",
      "\n",
      "   satisfaction_score  sla_breached  incentive_eligible  \n",
      "0                   5          True               False  \n",
      "1                   2         False               False  \n",
      "2                   2          True               False  \n",
      "3                   1          True               False  \n",
      "4                   9         False                True  \n"
     ]
    }
   ],
   "source": [
    "# Define SLA breach (if resolution > 7 days)\n",
    "df_perf['sla_breached'] = df_perf['resolution_days'] > 7\n",
    "\n",
    "# Incentive eligible if:\n",
    "# - resolution_days <= 7\n",
    "# - satisfaction_score >= 8\n",
    "df_perf['incentive_eligible'] = df_perf.apply(\n",
    "    lambda row: row['resolution_days'] <= 7 and row['satisfaction_score'] >= 8, axis=1\n",
    ")\n",
    "\n",
    "print(\"Sample rows:\")\n",
    "print(df_perf.head())\n"
   ]
  },
  {
   "cell_type": "code",
   "execution_count": 5,
   "metadata": {},
   "outputs": [
    {
     "name": "stdout",
     "output_type": "stream",
     "text": [
      "Saved: ../data/agent_performance.csv\n"
     ]
    }
   ],
   "source": [
    "df_perf.to_csv(\"../data/agent_performance.csv\", index=False)\n",
    "print(\"Saved: ../data/agent_performance.csv\")\n"
   ]
  },
  {
   "cell_type": "code",
   "execution_count": 6,
   "metadata": {},
   "outputs": [
    {
     "name": "stdout",
     "output_type": "stream",
     "text": [
      "Top 5 agent performance metrics:\n",
      "   agent_id  total_tickets  avg_resolution_days  avg_satisfaction  \\\n",
      "0  AGENT100             86             8.581395          5.627907   \n",
      "1  AGENT101             89             8.471910          5.460674   \n",
      "2  AGENT102            105             7.857143          5.742857   \n",
      "3  AGENT103             86             7.720930          5.534884   \n",
      "4  AGENT104             90             7.588889          5.533333   \n",
      "\n",
      "   sla_breaches  incentive_eligible_count  incentive_rate  \n",
      "0            49                        10            0.12  \n",
      "1            54                        12            0.13  \n",
      "2            54                        17            0.16  \n",
      "3            45                        13            0.15  \n",
      "4            47                        13            0.14  \n"
     ]
    }
   ],
   "source": [
    "import pandas as pd\n",
    "\n",
    "# Load data\n",
    "df_perf = pd.read_csv(\"../data/agent_performance.csv\")\n",
    "\n",
    "# Convert dates\n",
    "df_perf['created_at'] = pd.to_datetime(df_perf['created_at'])\n",
    "df_perf['resolved_at'] = pd.to_datetime(df_perf['resolved_at'])\n",
    "\n",
    "# Agent-level summary\n",
    "agent_kpis = df_perf.groupby('agent_id').agg(\n",
    "    total_tickets=('ticket_id', 'count'),\n",
    "    avg_resolution_days=('resolution_days', 'mean'),\n",
    "    avg_satisfaction=('satisfaction_score', 'mean'),\n",
    "    sla_breaches=('sla_breached', 'sum'),\n",
    "    incentive_eligible_count=('incentive_eligible', 'sum')\n",
    ").reset_index()\n",
    "\n",
    "# Compute incentive rate\n",
    "agent_kpis['incentive_rate'] = (agent_kpis['incentive_eligible_count'] / agent_kpis['total_tickets']).round(2)\n",
    "\n",
    "print(\"Top 5 agent performance metrics:\")\n",
    "print(agent_kpis.head())\n"
   ]
  },
  {
   "cell_type": "code",
   "execution_count": 7,
   "metadata": {},
   "outputs": [
    {
     "name": "stdout",
     "output_type": "stream",
     "text": [
      "Issue category performance summary:\n",
      "         category  total_tickets  avg_resolution_days  sla_breach_rate  \\\n",
      "0         Billing           1028             8.013619             0.53   \n",
      "1    Card Reissue            992             8.024194             0.54   \n",
      "2         Dispute            973             8.133607             0.54   \n",
      "3           Fraud            985             7.899492             0.52   \n",
      "4  Travel Booking           1022             8.045988             0.54   \n",
      "\n",
      "   avg_satisfaction  \n",
      "0          5.431907  \n",
      "1          5.666331  \n",
      "2          5.565262  \n",
      "3          5.323858  \n",
      "4          5.490215  \n"
     ]
    }
   ],
   "source": [
    "category_summary = df_perf.groupby('category').agg(\n",
    "    total_tickets=('ticket_id', 'count'),\n",
    "    avg_resolution_days=('resolution_days', 'mean'),\n",
    "    sla_breach_rate=('sla_breached', lambda x: round(x.mean(), 2)),\n",
    "    avg_satisfaction=('satisfaction_score', 'mean')\n",
    ").reset_index()\n",
    "\n",
    "print(\"Issue category performance summary:\")\n",
    "print(category_summary)\n"
   ]
  },
  {
   "cell_type": "code",
   "execution_count": 8,
   "metadata": {},
   "outputs": [
    {
     "name": "stdout",
     "output_type": "stream",
     "text": [
      "Exported: agent_performance_kpis.csv and category_performance_summary.csv\n"
     ]
    }
   ],
   "source": [
    "agent_kpis.to_csv(\"../outputs/agent_performance_kpis.csv\", index=False)\n",
    "category_summary.to_csv(\"../outputs/category_performance_summary.csv\", index=False)\n",
    "\n",
    "print(\"Exported: agent_performance_kpis.csv and category_performance_summary.csv\")\n"
   ]
  }
 ],
 "metadata": {
  "kernelspec": {
   "display_name": "Python 3",
   "language": "python",
   "name": "python3"
  },
  "language_info": {
   "codemirror_mode": {
    "name": "ipython",
    "version": 3
   },
   "file_extension": ".py",
   "mimetype": "text/x-python",
   "name": "python",
   "nbconvert_exporter": "python",
   "pygments_lexer": "ipython3",
   "version": "3.13.3"
  }
 },
 "nbformat": 4,
 "nbformat_minor": 2
}
