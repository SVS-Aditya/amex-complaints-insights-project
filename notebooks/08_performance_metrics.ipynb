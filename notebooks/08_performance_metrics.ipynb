{
 "cells": [
  {
   "cell_type": "code",
   "execution_count": 8,
   "metadata": {},
   "outputs": [
    {
     "name": "stdout",
     "output_type": "stream",
     "text": [
      "Requirement already satisfied: faker in c:\\users\\asus\\appdata\\local\\programs\\python\\python313\\lib\\site-packages (37.5.3)\n",
      "Requirement already satisfied: tzdata in c:\\users\\asus\\appdata\\local\\programs\\python\\python313\\lib\\site-packages (from faker) (2025.2)\n"
     ]
    },
    {
     "name": "stderr",
     "output_type": "stream",
     "text": [
      "\n",
      "[notice] A new release of pip is available: 25.1.1 -> 25.2\n",
      "[notice] To update, run: python.exe -m pip install --upgrade pip\n"
     ]
    }
   ],
   "source": [
    "!pip install faker"
   ]
  },
  {
   "cell_type": "code",
   "execution_count": 9,
   "metadata": {},
   "outputs": [],
   "source": [
    "import pandas as pd\n",
    "import random\n",
    "from faker import Faker\n",
    "from datetime import timedelta\n",
    "import numpy as np\n",
    "\n",
    "fake = Faker()\n",
    "random.seed(42)\n",
    "np.random.seed(42)\n",
    "\n",
    "num_tickets = 5000\n",
    "categories = ['Billing', 'Fraud', 'Card Reissue', 'Travel Booking', 'Dispute']\n",
    "\n",
    "data = []\n",
    "\n",
    "for _ in range(num_tickets):\n",
    "    created_at = fake.date_between(start_date='-1y', end_date='-10d')\n",
    "    resolution_days = random.randint(1, 15)\n",
    "    resolved_at = created_at + timedelta(days=resolution_days)\n",
    "    \n",
    "    entry = {\n",
    "        'ticket_id': fake.uuid4(),\n",
    "        'customer_id': fake.uuid4(),\n",
    "        'agent_id': f\"AGENT{random.randint(100, 150)}\",\n",
    "        'created_at': created_at,\n",
    "        'resolved_at': resolved_at,\n",
    "        'resolution_days': resolution_days,\n",
    "        'category': random.choice(categories),\n",
    "        'satisfaction_score': random.randint(1, 10),\n",
    "    }\n",
    "    data.append(entry)\n",
    "\n",
    "df_perf = pd.DataFrame(data)\n"
   ]
  },
  {
   "cell_type": "code",
   "execution_count": 10,
   "metadata": {},
   "outputs": [
    {
     "name": "stdout",
     "output_type": "stream",
     "text": [
      "Sample rows:\n",
      "                              ticket_id                           customer_id  \\\n",
      "0  70fedbf6-9287-471e-943e-abfeee1673c5  0b196f3e-14ae-4e7d-abec-9308e5e9acfd   \n",
      "1  6eb0fad6-9365-4759-9dfd-393917187807  1fff1b28-3d57-4276-87c6-a7c01ef1bf7b   \n",
      "2  02defa67-5933-44ed-bcc3-018765021293  b965625d-af7a-432a-96fc-ea094697d256   \n",
      "3  8d553ded-cfef-435e-aa59-cabfa9497366  98582654-f8cb-4759-8325-5772988b0826   \n",
      "4  3e929629-6a0a-4a3c-a305-41b52c5f27ec  997329ef-f14b-4779-ada2-f55390e380eb   \n",
      "\n",
      "   agent_id  created_at resolved_at  resolution_days category  \\\n",
      "0  AGENT107  2024-10-19  2024-10-30               11  Billing   \n",
      "1  AGENT114  2025-02-04  2025-02-08                4    Fraud   \n",
      "2  AGENT147  2024-09-11  2024-09-22               11  Dispute   \n",
      "3  AGENT127  2025-02-19  2025-03-01               10  Billing   \n",
      "4  AGENT113  2025-07-25  2025-07-27                2    Fraud   \n",
      "\n",
      "   satisfaction_score  sla_breached  incentive_eligible  \n",
      "0                   5          True               False  \n",
      "1                   2         False               False  \n",
      "2                   2          True               False  \n",
      "3                   1          True               False  \n",
      "4                   9         False                True  \n"
     ]
    }
   ],
   "source": [
    "df_perf['sla_breached'] = df_perf['resolution_days'] > 7\n",
    "\n",
    "df_perf['incentive_eligible'] = df_perf.apply(\n",
    "    lambda row: row['resolution_days'] <= 7 and row['satisfaction_score'] >= 8, axis=1\n",
    ")\n",
    "\n",
    "print(\"Sample rows:\")\n",
    "print(df_perf.head())\n"
   ]
  },
  {
   "cell_type": "code",
   "execution_count": 11,
   "metadata": {},
   "outputs": [
    {
     "name": "stdout",
     "output_type": "stream",
     "text": [
      "Saved: ../data/intermediate data/agent_performance.csv\n"
     ]
    }
   ],
   "source": [
    "df_perf.to_csv(\"../data/intermediate data/agent_performance.csv\", index=False)\n",
    "print(\"Saved: ../data/intermediate data/agent_performance.csv\")\n"
   ]
  },
  {
   "cell_type": "code",
   "execution_count": 12,
   "metadata": {},
   "outputs": [
    {
     "name": "stdout",
     "output_type": "stream",
     "text": [
      "Top 5 agent performance metrics:\n",
      "   agent_id  total_tickets  avg_resolution_days  avg_satisfaction  \\\n",
      "0  AGENT100             86             8.581395          5.627907   \n",
      "1  AGENT101             89             8.471910          5.460674   \n",
      "2  AGENT102            105             7.857143          5.742857   \n",
      "3  AGENT103             86             7.720930          5.534884   \n",
      "4  AGENT104             90             7.588889          5.533333   \n",
      "\n",
      "   sla_breaches  incentive_eligible_count  incentive_rate  \n",
      "0            49                        10            0.12  \n",
      "1            54                        12            0.13  \n",
      "2            54                        17            0.16  \n",
      "3            45                        13            0.15  \n",
      "4            47                        13            0.14  \n"
     ]
    }
   ],
   "source": [
    "import pandas as pd\n",
    "\n",
    "df_perf = pd.read_csv(\"../data/intermediate data/agent_performance.csv\")\n",
    "\n",
    "df_perf['created_at'] = pd.to_datetime(df_perf['created_at'])\n",
    "df_perf['resolved_at'] = pd.to_datetime(df_perf['resolved_at'])\n",
    "\n",
    "agent_kpis = df_perf.groupby('agent_id').agg(\n",
    "    total_tickets=('ticket_id', 'count'),\n",
    "    avg_resolution_days=('resolution_days', 'mean'),\n",
    "    avg_satisfaction=('satisfaction_score', 'mean'),\n",
    "    sla_breaches=('sla_breached', 'sum'),\n",
    "    incentive_eligible_count=('incentive_eligible', 'sum')\n",
    ").reset_index()\n",
    "\n",
    "agent_kpis['incentive_rate'] = (agent_kpis['incentive_eligible_count'] / agent_kpis['total_tickets']).round(2)\n",
    "\n",
    "print(\"Top 5 agent performance metrics:\")\n",
    "print(agent_kpis.head())\n"
   ]
  },
  {
   "cell_type": "code",
   "execution_count": 13,
   "metadata": {},
   "outputs": [
    {
     "name": "stdout",
     "output_type": "stream",
     "text": [
      "Issue category performance summary:\n",
      "         category  total_tickets  avg_resolution_days  sla_breach_rate  \\\n",
      "0         Billing           1028             8.013619             0.53   \n",
      "1    Card Reissue            992             8.024194             0.54   \n",
      "2         Dispute            973             8.133607             0.54   \n",
      "3           Fraud            985             7.899492             0.52   \n",
      "4  Travel Booking           1022             8.045988             0.54   \n",
      "\n",
      "   avg_satisfaction  \n",
      "0          5.431907  \n",
      "1          5.666331  \n",
      "2          5.565262  \n",
      "3          5.323858  \n",
      "4          5.490215  \n"
     ]
    }
   ],
   "source": [
    "category_summary = df_perf.groupby('category').agg(\n",
    "    total_tickets=('ticket_id', 'count'),\n",
    "    avg_resolution_days=('resolution_days', 'mean'),\n",
    "    sla_breach_rate=('sla_breached', lambda x: round(x.mean(), 2)),\n",
    "    avg_satisfaction=('satisfaction_score', 'mean')\n",
    ").reset_index()\n",
    "\n",
    "print(\"Issue category performance summary:\")\n",
    "print(category_summary)\n"
   ]
  },
  {
   "cell_type": "code",
   "execution_count": 14,
   "metadata": {},
   "outputs": [
    {
     "name": "stdout",
     "output_type": "stream",
     "text": [
      "Exported: agent_performance_kpis.csv and category_performance_summary.csv\n"
     ]
    }
   ],
   "source": [
    "agent_kpis.to_csv(\"../outputs/agent_performance_kpis.csv\", index=False)\n",
    "category_summary.to_csv(\"../outputs/category_performance_summary.csv\", index=False)\n",
    "\n",
    "print(\"Exported: agent_performance_kpis.csv and category_performance_summary.csv\")\n"
   ]
  }
 ],
 "metadata": {
  "kernelspec": {
   "display_name": "Python 3",
   "language": "python",
   "name": "python3"
  },
  "language_info": {
   "codemirror_mode": {
    "name": "ipython",
    "version": 3
   },
   "file_extension": ".py",
   "mimetype": "text/x-python",
   "name": "python",
   "nbconvert_exporter": "python",
   "pygments_lexer": "ipython3",
   "version": "3.13.3"
  }
 },
 "nbformat": 4,
 "nbformat_minor": 2
}
