{
 "cells": [
  {
   "cell_type": "code",
   "execution_count": 1,
   "metadata": {},
   "outputs": [
    {
     "name": "stdout",
     "output_type": "stream",
     "text": [
      "Rows: 5409\n",
      "Sample complaint:\n",
      " I am writing to file a formal complaint with the Consumer Financial Protection Bureau ( CFPB ) regarding my XXXX XXXX American Express card account, issued by American Express. I am deeply dissatisfied with the recent changes to the card 's benefits, which have rendered the card significantly less valuable to me as a consumer. \n",
      "\n",
      "I have been a loyal customer have held the XXXX XXXX American Express card for 1 year and have been a Skymiles member since XXXX. I initially signed up for this card because of the enticing benefits it offered, including [ paid XXXX XXXX XXXX access, priority boarding, and boosts when spending {$25000.00} and {$50000.00}. ]. These benefits were a major factor in my decision to become a cardholder and to continue paying the annual fee. \n",
      "\n",
      "However, I was recently informed that effective XX/XX/XXXX, several of the benefits that initially attracted me to this card will no longer be available. The specific changes that have been announced, such as [ the removal of MQMs to earn status, and the removal of complimentary XXXX XXXX XXXX access ], significantly diminish the value of the XXXX XXXX American Express card for me as a customer. These changes were not communicated clearly or with sufficient notice, leaving me feeling blindsided and betrayed as a loyal cardholder. \n",
      "\n",
      "I believe these changes fail to meet the standards of transparency and fairness that consumers should expect from their financial institutions. I have made significant financial decisions based on the promised benefits of this card, and the sudden withdrawal of these benefits has put me at a disadvantage. Not to mention, I just paid the {$250.00} annual fee less than two months ago. \n",
      "\n",
      "I kindly request that the CFPB investigate this matter thoroughly to ensure that American Express upholds its responsibilities to its customers and adheres to all relevant consumer protection laws. Furthermore, I urge American Express to provide affected cardholders with a fair and equitable resolution. \n",
      "\n",
      "I appreciate your attention to this matter and look forward to a timely response. You may reach me at the contact information provided above should you require any further details or clarification regarding this complaint. \n",
      "\n",
      "Thank you for your assistance in addressing this issue.\n"
     ]
    }
   ],
   "source": [
    "import pandas as pd\n",
    "\n",
    "# Load cleaned data\n",
    "df = pd.read_csv(\"../data/amex_cleaned_complaints.csv\")\n",
    "\n",
    "# Confirm data is loaded\n",
    "print(\"Rows:\", len(df))\n",
    "print(\"Sample complaint:\\n\", df['consumer_complaint_narrative'].iloc[0])\n"
   ]
  },
  {
   "cell_type": "code",
   "execution_count": 2,
   "metadata": {},
   "outputs": [
    {
     "name": "stdout",
     "output_type": "stream",
     "text": [
      "Text cleaned.\n"
     ]
    }
   ],
   "source": [
    "import re\n",
    "\n",
    "def clean_text(text):\n",
    "    text = text.lower()\n",
    "    text = re.sub(r'http\\S+|www\\S+', '', text)            # remove URLs\n",
    "    text = re.sub(r'[^a-z\\s]', '', text)                  # remove numbers/punctuation\n",
    "    text = re.sub(r'\\s+', ' ', text).strip()              # remove extra whitespace\n",
    "    return text\n",
    "\n",
    "df['clean_text'] = df['consumer_complaint_narrative'].apply(clean_text)\n",
    "print(\"Text cleaned.\")\n"
   ]
  },
  {
   "cell_type": "code",
   "execution_count": 3,
   "metadata": {},
   "outputs": [
    {
     "name": "stderr",
     "output_type": "stream",
     "text": [
      "[nltk_data] Error loading vader_lexicon: <urlopen error [Errno 11001]\n",
      "[nltk_data]     getaddrinfo failed>\n"
     ]
    },
    {
     "name": "stdout",
     "output_type": "stream",
     "text": [
      "Sentiment analysis complete.\n",
      "Sentiment counts:\n",
      " sentiment_label\n",
      "positive    2834\n",
      "negative    2062\n",
      "neutral      513\n",
      "Name: count, dtype: int64\n"
     ]
    }
   ],
   "source": [
    "import nltk\n",
    "from vaderSentiment.vaderSentiment import SentimentIntensityAnalyzer\n",
    "\n",
    "# Only run once\n",
    "nltk.download('vader_lexicon')\n",
    "\n",
    "analyzer = SentimentIntensityAnalyzer()\n",
    "\n",
    "# Apply VADER\n",
    "df['vader_sentiment'] = df['clean_text'].apply(lambda x: analyzer.polarity_scores(x)['compound'])\n",
    "\n",
    "# Sentiment label\n",
    "df['sentiment_label'] = df['vader_sentiment'].apply(\n",
    "    lambda x: 'positive' if x > 0.2 else 'negative' if x < -0.2 else 'neutral'\n",
    ")\n",
    "\n",
    "print(\"Sentiment analysis complete.\")\n",
    "print(\"Sentiment counts:\\n\", df['sentiment_label'].value_counts())\n"
   ]
  },
  {
   "cell_type": "code",
   "execution_count": 4,
   "metadata": {},
   "outputs": [
    {
     "name": "stdout",
     "output_type": "stream",
     "text": [
      "Saved sentiment-scored file to: ../data/amex_complaints_sentiment.csv\n"
     ]
    }
   ],
   "source": [
    "df.to_csv(\"../data/amex_complaints_sentiment.csv\", index=False)\n",
    "print(\"Saved sentiment-scored file to: ../data/amex_complaints_sentiment.csv\")\n"
   ]
  }
 ],
 "metadata": {
  "kernelspec": {
   "display_name": "Python 3",
   "language": "python",
   "name": "python3"
  },
  "language_info": {
   "codemirror_mode": {
    "name": "ipython",
    "version": 3
   },
   "file_extension": ".py",
   "mimetype": "text/x-python",
   "name": "python",
   "nbconvert_exporter": "python",
   "pygments_lexer": "ipython3",
   "version": "3.13.3"
  }
 },
 "nbformat": 4,
 "nbformat_minor": 2
}
