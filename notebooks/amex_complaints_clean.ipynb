{
 "cells": [
  {
   "cell_type": "code",
   "execution_count": 1,
   "metadata": {},
   "outputs": [],
   "source": [
    "import pandas as pd\n",
    "import html\n",
    "\n",
    "# Load file\n",
    "df = pd.read_csv(\"../outputs/amex_complaints_sentiment.csv\")\n",
    "\n",
    "# Replace newlines and quotes in text columns\n",
    "text_cols = ['consumer_complaint_narrative', 'company_public_response', 'clean_text']\n",
    "for col in text_cols:\n",
    "    df[col] = df[col].fillna(\"\")\n",
    "    df[col] = df[col].apply(lambda x: str(x).replace('\\n', ' ').replace('\\r', ' '))\n",
    "    df[col] = df[col].apply(lambda x: x.replace('\"', \"'\"))\n",
    "    df[col] = df[col].apply(lambda x: html.unescape(x))\n",
    "    \n",
    "# Rename columns with special characters\n",
    "df.columns = (\n",
    "    df.columns.str.lower()\n",
    "              .str.strip()\n",
    "              .str.replace(' ', '_')\n",
    "              .str.replace(r'\\W', '', regex=True)  # Remove non-alphanumeric/underscore\n",
    ")\n",
    "\n",
    "\n",
    "# Save cleaned version for BigQuery\n",
    "df.to_csv(\"../outputs/amex_complaints_clean.csv\", index=False, quoting=1)\n"
   ]
  }
 ],
 "metadata": {
  "kernelspec": {
   "display_name": "Python 3",
   "language": "python",
   "name": "python3"
  },
  "language_info": {
   "codemirror_mode": {
    "name": "ipython",
    "version": 3
   },
   "file_extension": ".py",
   "mimetype": "text/x-python",
   "name": "python",
   "nbconvert_exporter": "python",
   "pygments_lexer": "ipython3",
   "version": "3.13.3"
  }
 },
 "nbformat": 4,
 "nbformat_minor": 2
}
