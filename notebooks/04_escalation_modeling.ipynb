{
 "cells": [
  {
   "cell_type": "code",
   "execution_count": 1,
   "metadata": {},
   "outputs": [
    {
     "name": "stdout",
     "output_type": "stream",
     "text": [
      "✅ Unique labels in consumer_disputed?: ['Unknown' 'Yes' 'No']\n"
     ]
    }
   ],
   "source": [
    "import pandas as pd\n",
    "\n",
    "# Load the sentiment-scored data\n",
    "df = pd.read_csv(\"../data/amex_complaints_sentiment.csv\")\n",
    "\n",
    "# Confirm target column\n",
    "print(\"✅ Unique labels in consumer_disputed?:\", df['consumer_disputed?'].unique())\n"
   ]
  },
  {
   "cell_type": "code",
   "execution_count": 2,
   "metadata": {},
   "outputs": [
    {
     "name": "stdout",
     "output_type": "stream",
     "text": [
      "✅ Class distribution:\n",
      "disputed_flag\n",
      "0    4906\n",
      "1     503\n",
      "Name: count, dtype: int64\n"
     ]
    }
   ],
   "source": [
    "# Map target to binary: Yes → 1, No/Unknown → 0\n",
    "df['disputed_flag'] = df['consumer_disputed?'].apply(lambda x: 1 if str(x).strip().lower() == 'yes' else 0)\n",
    "\n",
    "print(\"✅ Class distribution:\")\n",
    "print(df['disputed_flag'].value_counts())\n"
   ]
  },
  {
   "cell_type": "code",
   "execution_count": 3,
   "metadata": {},
   "outputs": [
    {
     "name": "stdout",
     "output_type": "stream",
     "text": [
      "✅ Encoded feature shape: (5409, 46)\n"
     ]
    }
   ],
   "source": [
    "# Select features\n",
    "features = ['vader_sentiment', 'submitted_via', 'issue']\n",
    "X = df[features]\n",
    "y = df['disputed_flag']\n",
    "\n",
    "# One-hot encode categorical features\n",
    "X_encoded = pd.get_dummies(X, columns=['submitted_via', 'issue'])\n",
    "\n",
    "print(\"✅ Encoded feature shape:\", X_encoded.shape)\n"
   ]
  },
  {
   "cell_type": "code",
   "execution_count": 4,
   "metadata": {},
   "outputs": [
    {
     "name": "stdout",
     "output_type": "stream",
     "text": [
      "✅ Training set size: (4327, 46)\n",
      "✅ Test set size: (1082, 46)\n"
     ]
    }
   ],
   "source": [
    "from sklearn.model_selection import train_test_split\n",
    "\n",
    "X_train, X_test, y_train, y_test = train_test_split(X_encoded, y, test_size=0.2, random_state=42)\n",
    "\n",
    "print(\"✅ Training set size:\", X_train.shape)\n",
    "print(\"✅ Test set size:\", X_test.shape)\n"
   ]
  },
  {
   "cell_type": "code",
   "execution_count": 5,
   "metadata": {},
   "outputs": [
    {
     "name": "stdout",
     "output_type": "stream",
     "text": [
      "✅ Model trained.\n",
      "📋 Classification Report:\n",
      "               precision    recall  f1-score   support\n",
      "\n",
      "Not Disputed       0.94      0.94      0.94      1001\n",
      "    Disputed       0.27      0.30      0.28        81\n",
      "\n",
      "    accuracy                           0.89      1082\n",
      "   macro avg       0.61      0.62      0.61      1082\n",
      "weighted avg       0.89      0.89      0.89      1082\n",
      "\n"
     ]
    }
   ],
   "source": [
    "from sklearn.ensemble import RandomForestClassifier\n",
    "from sklearn.metrics import classification_report\n",
    "\n",
    "model = RandomForestClassifier(n_estimators=100, random_state=42)\n",
    "model.fit(X_train, y_train)\n",
    "\n",
    "y_pred = model.predict(X_test)\n",
    "\n",
    "print(\"✅ Model trained.\")\n",
    "print(\"📋 Classification Report:\\n\", classification_report(y_test, y_pred, target_names=[\"Not Disputed\", \"Disputed\"]))\n"
   ]
  },
  {
   "cell_type": "code",
   "execution_count": 7,
   "metadata": {},
   "outputs": [
    {
     "name": "stdout",
     "output_type": "stream",
     "text": [
      "Model saved to: ../outputs/escalation_model.pkl\n"
     ]
    }
   ],
   "source": [
    "import joblib\n",
    "\n",
    "joblib.dump(model, \"../outputs/escalation_model.pkl\")\n",
    "print(\"Model saved to: ../outputs/escalation_model.pkl\")\n"
   ]
  }
 ],
 "metadata": {
  "kernelspec": {
   "display_name": "Python 3",
   "language": "python",
   "name": "python3"
  },
  "language_info": {
   "codemirror_mode": {
    "name": "ipython",
    "version": 3
   },
   "file_extension": ".py",
   "mimetype": "text/x-python",
   "name": "python",
   "nbconvert_exporter": "python",
   "pygments_lexer": "ipython3",
   "version": "3.13.3"
  }
 },
 "nbformat": 4,
 "nbformat_minor": 2
}
